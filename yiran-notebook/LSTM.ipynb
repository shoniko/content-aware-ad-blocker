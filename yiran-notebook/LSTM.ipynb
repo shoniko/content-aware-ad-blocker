{
 "cells": [
  {
   "cell_type": "code",
   "execution_count": 1,
   "metadata": {
    "collapsed": true
   },
   "outputs": [],
   "source": [
    "import json\n",
    "import itertools\n",
    "import time\n",
    "import os\n",
    "import re\n",
    "import numpy as np\n",
    "import tensorflow as tf"
   ]
  },
  {
   "cell_type": "code",
   "execution_count": 2,
   "metadata": {
    "collapsed": true
   },
   "outputs": [],
   "source": [
    "DATA_PATH = os.path.expanduser(\".\")"
   ]
  },
  {
   "cell_type": "markdown",
   "metadata": {},
   "source": [
    "# Vocab\n",
    "\n",
    "`vocab.json` is pre-built, it's a list of top 100k identifier names."
   ]
  },
  {
   "cell_type": "code",
   "execution_count": 3,
   "metadata": {
    "collapsed": false
   },
   "outputs": [],
   "source": [
    "with open(\"{}/vocab.json\".format(DATA_PATH), 'r') as j:\n",
    "    words = json.load(j)\n",
    "    words.append('<unk>')       # Unknown identifiers, low-freq identifiers outside vocabulary\n",
    "    words.append('<flag>')      # End of script symbol, if script is flagged\n",
    "    words.append('<no-flag>')   # End of script symbol, if script is not flagged\n",
    "    vocab = dict(zip(words, range(len(words))))"
   ]
  },
  {
   "cell_type": "code",
   "execution_count": 4,
   "metadata": {
    "collapsed": false
   },
   "outputs": [
    {
     "data": {
      "text/plain": [
       "[u'length',\n",
       " u'prototype',\n",
       " u'push',\n",
       " u'document',\n",
       " u'window',\n",
       " u'options',\n",
       " u'data',\n",
       " u'call',\n",
       " u'type',\n",
       " u'arguments',\n",
       " u'value',\n",
       " u'name',\n",
       " u'replace',\n",
       " u'style',\n",
       " u'Math',\n",
       " u'css',\n",
       " u'width',\n",
       " u'height',\n",
       " u'indexOf',\n",
       " u'test',\n",
       " u'top',\n",
       " u'element',\n",
       " u'apply',\n",
       " u'event']"
      ]
     },
     "execution_count": 4,
     "metadata": {},
     "output_type": "execute_result"
    }
   ],
   "source": [
    "vocab_len = len(words)\n",
    "words[:24]"
   ]
  },
  {
   "cell_type": "code",
   "execution_count": 5,
   "metadata": {
    "collapsed": false
   },
   "outputs": [
    {
     "data": {
      "text/plain": [
       "True"
      ]
     },
     "execution_count": 5,
     "metadata": {},
     "output_type": "execute_result"
    }
   ],
   "source": [
    "len(words) == len(vocab)"
   ]
  },
  {
   "cell_type": "code",
   "execution_count": 5,
   "metadata": {
    "collapsed": false
   },
   "outputs": [
    {
     "name": "stdout",
     "output_type": "stream",
     "text": [
      "Size of Vocab : 200090\n"
     ]
    }
   ],
   "source": [
    "print(\"Size of Vocab : {}\".format(vocab_len))"
   ]
  },
  {
   "cell_type": "markdown",
   "metadata": {},
   "source": [
    "# Transform\n",
    "\n",
    "Convert raw script tokens to array of integers (indices defined in `vocab` dict)."
   ]
  },
  {
   "cell_type": "code",
   "execution_count": 6,
   "metadata": {
    "collapsed": true
   },
   "outputs": [],
   "source": [
    "def digitize_script(label, tokens):\n",
    "    if int(label) == 1:\n",
    "        flag = '<flag>'\n",
    "    else:\n",
    "        flag = '<no-flag>'\n",
    "    tokens = json.loads(tokens) + [flag] # append EOS symbol\n",
    "    get_index = lambda w: vocab[w] if (w in vocab) else vocab['<unk>']\n",
    "    return [get_index(t) for t in tokens]"
   ]
  },
  {
   "cell_type": "code",
   "execution_count": 8,
   "metadata": {
    "collapsed": true
   },
   "outputs": [],
   "source": [
    "def get_raw():\n",
    "    with open(\"{}/tokens-labeled.jsonl\".format(DATA_PATH), 'r') as f:\n",
    "        for line in f.readlines():\n",
    "            yield digitize_script(*line.strip().split(\"\\t\"))"
   ]
  },
  {
   "cell_type": "code",
   "execution_count": 9,
   "metadata": {
    "collapsed": false
   },
   "outputs": [],
   "source": [
    "def stringify(token_indices):\n",
    "    return \" \".join([words[i] for i in token_indices])"
   ]
  },
  {
   "cell_type": "code",
   "execution_count": 10,
   "metadata": {
    "collapsed": false
   },
   "outputs": [],
   "source": [
    "corpus = []\n",
    "for tokens in get_raw():\n",
    "    for t in tokens:\n",
    "        corpus.append(t)"
   ]
  },
  {
   "cell_type": "code",
   "execution_count": 11,
   "metadata": {
    "collapsed": false
   },
   "outputs": [
    {
     "name": "stdout",
     "output_type": "stream",
     "text": [
      "Corpus Size: 199187149\n"
     ]
    }
   ],
   "source": [
    "print(\"Corpus Size: {}\".format(len(corpus)))"
   ]
  },
  {
   "cell_type": "code",
   "execution_count": 12,
   "metadata": {
    "collapsed": false
   },
   "outputs": [
    {
     "data": {
      "text/plain": [
       "u'{ [Keyword|this] . user_info . email = [Keyword|this] . email ; } [Keyword|else] { [Keyword|this] . user_info = { [String] : [Keyword|this] . email } ; } } [Keyword|this] . email_list_id = [Keyword|this] . getURLParameter ( [String] ) || [Keyword|this] . getURLParameter ( [String] ) ; [Keyword|this] .'"
      ]
     },
     "execution_count": 12,
     "metadata": {},
     "output_type": "execute_result"
    }
   ],
   "source": [
    "stringify(corpus[1000:1048])"
   ]
  },
  {
   "cell_type": "markdown",
   "metadata": {},
   "source": [
    "<hr>\n",
    "\n",
    "# Begin Tensorflow Code.\n",
    "\n"
   ]
  },
  {
   "cell_type": "code",
   "execution_count": 13,
   "metadata": {
    "collapsed": true
   },
   "outputs": [],
   "source": [
    "def data_type():\n",
    "  return tf.float32\n",
    "\n",
    "def data_producer(raw_data, batch_size, num_steps, name=None):\n",
    "    \n",
    "  with tf.name_scope(name, \"DataProducer\", [raw_data, batch_size, num_steps]):\n",
    "    raw_data = tf.convert_to_tensor(raw_data, name=\"raw_data\", dtype=tf.int32)\n",
    "\n",
    "    data_len = tf.size(raw_data)\n",
    "    batch_len = data_len // batch_size\n",
    "    data = tf.reshape(raw_data[0 : batch_size * batch_len],\n",
    "                      [batch_size, batch_len])\n",
    "\n",
    "    epoch_size = (batch_len - 1) // num_steps\n",
    "    assertion = tf.assert_positive(\n",
    "        epoch_size,\n",
    "        message=\"epoch_size == 0, decrease batch_size or num_steps\")\n",
    "    with tf.control_dependencies([assertion]):\n",
    "      epoch_size = tf.identity(epoch_size, name=\"epoch_size\")\n",
    "\n",
    "    i = tf.train.range_input_producer(epoch_size, shuffle=False).dequeue()\n",
    "    x = tf.slice(data, [0, i * num_steps], [batch_size, num_steps])\n",
    "    y = tf.slice(data, [0, i * num_steps + 1], [batch_size, num_steps])\n",
    "    return x, y"
   ]
  },
  {
   "cell_type": "code",
   "execution_count": 14,
   "metadata": {
    "collapsed": false
   },
   "outputs": [],
   "source": [
    "class Input(object):\n",
    "  \"\"\"The input data.\"\"\"\n",
    "\n",
    "  def __init__(self, config, data, name=None):\n",
    "    self.batch_size = batch_size = config.batch_size\n",
    "    self.num_steps = num_steps = config.num_steps\n",
    "    self.epoch_size = ((len(data) // batch_size) - 1) // num_steps\n",
    "    self.input_data, self.targets = data_producer(\n",
    "        data, batch_size, num_steps, name=name)"
   ]
  },
  {
   "cell_type": "code",
   "execution_count": 15,
   "metadata": {
    "collapsed": true
   },
   "outputs": [],
   "source": [
    "class Seq2SeqModel:\n",
    "    def __init__(self, config, is_training, input_, initial_state=None):\n",
    "\n",
    "        self._input = input_\n",
    "\n",
    "        batch_size = input_.batch_size\n",
    "        num_steps = input_.num_steps\n",
    "        size = config.hidden_size\n",
    "        vocab_size = config.vocab_size\n",
    "\n",
    "        lstm_cell = tf.nn.rnn_cell.BasicLSTMCell(size, forget_bias=0.0, state_is_tuple=True)\n",
    "        if is_training and config.keep_prob < 1:\n",
    "            lstm_cell = tf.nn.rnn_cell.DropoutWrapper(\n",
    "                lstm_cell, output_keep_prob=config.keep_prob)\n",
    "        cell = tf.nn.rnn_cell.MultiRNNCell([lstm_cell] * config.num_layers, state_is_tuple=True)\n",
    "\n",
    "        with tf.device(\"/cpu:0\"):\n",
    "            embedding = tf.get_variable(\n",
    "                \"embedding\", [vocab_size, size], dtype=data_type())\n",
    "            inputs = tf.nn.embedding_lookup(embedding, input_.input_data)\n",
    "\n",
    "        _initial_state = cell.zero_state(batch_size, data_type())\n",
    "\n",
    "        if initial_state is not None:\n",
    "            self._initial_state = tf.placeholder(dtype=data_type(), shape=tf.shape(_initial_state))\n",
    "        else:\n",
    "            self._initial_state = _initial_state\n",
    "\n",
    "        # if is_training and config.keep_prob < 1:\n",
    "        #  inputs = tf.nn.dropout(inputs, config.keep_prob)\n",
    "\n",
    "        # ---- Notes ----\n",
    "        # 't' is a tensor of shape [1, 2, 1, 3, 1, 1]\n",
    "        # shape(squeeze(t, [0])) ==> [2, 1, 3, 1, 1]\n",
    "        inputs = [tf.squeeze(input_step, [1])\n",
    "                     for input_step in tf.split(1, num_steps, inputs)]\n",
    "        outputs, state = tf.nn.rnn(cell, inputs, initial_state=self._initial_state, dtype=data_type())\n",
    "\n",
    "        # shape: [num_steps, size]\n",
    "        output = tf.reshape(tf.concat(1, outputs), [-1, size])\n",
    "\n",
    "        softmax_w = tf.get_variable(\n",
    "            \"softmax_w\", [size, vocab_size], dtype=data_type())\n",
    "        softmax_b = tf.get_variable(\"softmax_b\", [vocab_size], dtype=data_type())\n",
    "        logits = tf.matmul(output, softmax_w) + softmax_b\n",
    "        # https://github.com/tensorflow/tensorflow/blob/master/tensorflow/python/ops/seq2seq.py#L986\n",
    "        targets = tf.reshape(input_.targets, [-1])\n",
    "        loss = tf.nn.seq2seq.sequence_loss_by_example(\n",
    "            [logits],\n",
    "            [targets],\n",
    "            [tf.ones([batch_size * num_steps], dtype=data_type())])\n",
    "        self._cost = cost = tf.reduce_sum(loss) / batch_size\n",
    "        self._final_state = state\n",
    "\n",
    "        self._predict = probs = tf.nn.softmax(logits)\n",
    "        predict_class = tf.cast(tf.argmax(probs, 1), tf.int32)\n",
    "        \n",
    "        errors = tf.cast(tf.equal(predict_class, targets), data_type())\n",
    "        self._errors = tf.reduce_mean(errors)\n",
    "\n",
    "        if not is_training:\n",
    "          return\n",
    "\n",
    "        self._lr = tf.Variable(0.0, trainable=False)\n",
    "        tvars = tf.trainable_variables()\n",
    "        grads, _ = tf.clip_by_global_norm(tf.gradients(cost, tvars),\n",
    "                                          config.max_grad_norm)\n",
    "        optimizer = tf.train.GradientDescentOptimizer(self._lr)\n",
    "        self._train_op = optimizer.apply_gradients(\n",
    "            zip(grads, tvars),\n",
    "            global_step=tf.contrib.framework.get_or_create_global_step())\n",
    "\n",
    "        self._new_lr = tf.placeholder(\n",
    "            tf.float32, shape=[], name=\"new_learning_rate\")\n",
    "        self._lr_update = tf.assign(self._lr, self._new_lr)\n",
    "\n",
    "    def assign_lr(self, session, lr_value):\n",
    "        session.run(self._lr_update, feed_dict={self._new_lr: lr_value})\n",
    "\n",
    "    @property\n",
    "    def input(self):\n",
    "        return self._input\n",
    "\n",
    "    @property\n",
    "    def initial_state(self):\n",
    "        return self._initial_state\n",
    "\n",
    "    @property\n",
    "    def cost(self):\n",
    "        return self._cost\n",
    "\n",
    "    @property\n",
    "    def final_state(self):\n",
    "        return self._final_state\n",
    "\n",
    "    @property\n",
    "    def lr(self):\n",
    "        return self._lr\n",
    "    \n",
    "    @property\n",
    "    def predict(self):\n",
    "        return self._predict\n",
    "\n",
    "    @property\n",
    "    def train_op(self):\n",
    "        return self._train_op"
   ]
  },
  {
   "cell_type": "code",
   "execution_count": 16,
   "metadata": {
    "collapsed": true
   },
   "outputs": [],
   "source": [
    "def run_epoch(session, model, eval_op=None, verbose=False, return_eval=False):\n",
    "  \"\"\"Runs the model on the given data.\"\"\"\n",
    "  start_time = time.time()\n",
    "  costs = 0.0\n",
    "  iters = 0\n",
    "  state = session.run(model.initial_state)\n",
    "\n",
    "  fetches = {\n",
    "      \"cost\": model.cost,\n",
    "      \"final_state\": model.final_state,\n",
    "  }\n",
    "  if eval_op is not None:\n",
    "    fetches[\"eval_op\"] = eval_op\n",
    "  if return_eval:\n",
    "    eval_results = []\n",
    "\n",
    "  for step in range(model.input.epoch_size):\n",
    "    feed_dict = {}\n",
    "    for i, (c, h) in enumerate(model.initial_state):\n",
    "      feed_dict[c] = state[i].c\n",
    "      feed_dict[h] = state[i].h\n",
    "\n",
    "    vals = session.run(fetches, feed_dict)\n",
    "    cost = vals[\"cost\"]\n",
    "    state = vals[\"final_state\"]\n",
    "\n",
    "    costs += cost\n",
    "    iters += model.input.num_steps\n",
    "    \n",
    "    if return_eval:\n",
    "      eval_results.append(vals['eval_op'])\n",
    "\n",
    "    if verbose and step % (model.input.epoch_size // 10) == 10:\n",
    "      print(\"%.3f perplexity: %.3f speed: %.0f wps\" %\n",
    "            (step * 1.0 / model.input.epoch_size, np.exp(costs / iters),\n",
    "             iters * model.input.batch_size / (time.time() - start_time)))\n",
    "\n",
    "  if return_eval:\n",
    "    return eval_results\n",
    "\n",
    "  return np.exp(costs / iters)"
   ]
  },
  {
   "cell_type": "code",
   "execution_count": 17,
   "metadata": {
    "collapsed": true
   },
   "outputs": [],
   "source": [
    "class SmallConfig(object):\n",
    "    \"\"\"Small config.\"\"\"\n",
    "    init_scale = 0.1\n",
    "    learning_rate = 1.0\n",
    "    max_grad_norm = 5\n",
    "    num_layers = 2\n",
    "    num_steps = 20\n",
    "    hidden_size = 200\n",
    "    max_epoch = 4\n",
    "    max_max_epoch = 10\n",
    "    keep_prob = 1.0\n",
    "    lr_decay = 0.5\n",
    "    batch_size = 20\n",
    "    vocab_size = len(words)"
   ]
  },
  {
   "cell_type": "code",
   "execution_count": 18,
   "metadata": {
    "collapsed": true
   },
   "outputs": [],
   "source": [
    "class MediumConfig(object):\n",
    "    \"\"\"Medium config.\"\"\"\n",
    "    init_scale = 0.05\n",
    "    learning_rate = 1.0\n",
    "    max_grad_norm = 5\n",
    "    num_layers = 2\n",
    "    num_steps = 20\n",
    "    hidden_size = 650\n",
    "    max_epoch = 6\n",
    "    max_max_epoch = 39\n",
    "    keep_prob = 0.7\n",
    "    lr_decay = 0.8\n",
    "    batch_size = 20\n",
    "    vocab_size = len(words)"
   ]
  },
  {
   "cell_type": "code",
   "execution_count": null,
   "metadata": {
    "collapsed": false
   },
   "outputs": [],
   "source": [
    "config = MediumConfig()\n",
    "# eval_config = get_config()\n",
    "# eval_config.batch_size = 1\n",
    "# eval_config.num_steps = 1\n",
    "eval_config = MediumConfig()\n",
    "eval_config.batch_size = 10\n",
    "eval_config.num_steps = 1\n",
    "\n",
    "with tf.Graph().as_default():\n",
    "    initializer = tf.random_uniform_initializer(-config.init_scale,\n",
    "                                               config.init_scale)\n",
    "    with tf.name_scope(\"Train\"):\n",
    "        train_input = Input(config=config, data=corpus[20000:], name=\"TrainInput\")\n",
    "        with tf.variable_scope(\"Model\", reuse=None, initializer=initializer):\n",
    "            m = Seq2SeqModel(is_training=True, config=config, input_=train_input)\n",
    "        tf.scalar_summary(\"Training Loss\", m.cost)\n",
    "        tf.scalar_summary(\"Learning Rate\", m.lr)\n",
    "        \n",
    "    with tf.name_scope(\"Valid\"):\n",
    "        valid_input = Input(config=config, data=corpus[10000:15000], name=\"ValidInput\")\n",
    "        with tf.variable_scope(\"Model\", reuse=True, initializer=initializer):\n",
    "            mvalid = Seq2SeqModel(is_training=False, config=config, input_=valid_input)\n",
    "        tf.scalar_summary(\"Validation Loss\", mvalid.cost)\n",
    "        \n",
    "    with tf.name_scope(\"Test\"):\n",
    "        valid_input = Input(config=config, data=corpus[15000:20000], name=\"TestInput\")\n",
    "        with tf.variable_scope(\"Model\", reuse=True, initializer=initializer):\n",
    "            mtest = Seq2SeqModel(is_training=False, config=eval_config, input_=valid_input)\n",
    "        tf.scalar_summary(\"Test Loss\", mtest.cost)\n",
    "\n",
    "    sv = tf.train.Supervisor(logdir=\"{}/tflog\".format(DATA_PATH))\n",
    "    with sv.managed_session() as session:\n",
    "        for i in range(config.max_max_epoch):\n",
    "            lr_decay = config.lr_decay ** max(i + 1 - config.max_epoch, 0.0)\n",
    "            m.assign_lr(session, config.learning_rate * lr_decay)\n",
    "\n",
    "            print(\"Epoch: %d Learning rate: %.3f\" % (i + 1, session.run(m.lr)))\n",
    "            train_perplexity = run_epoch(session, m, eval_op=m.train_op,\n",
    "                                         verbose=True)\n",
    "            valid_perplexity = run_epoch(session, mvalid)\n",
    "            print(\"Epoch: %d Valid Perplexity: %.3f\" % (i + 1, valid_perplexity))\n",
    "            \n",
    "            valid_error = run_epoch(session, mvalid, eval_op=mtest._errors, return_eval=True)\n",
    "            print(\"Epoch: %d Valid Error: %.3f\" % (i + 1, np.mean(valid_error)))   \n",
    "        \n",
    "        # test_probs = run_epoch(session, mtest, eval_op=mtest._predict, return_eval=True)\n",
    "        \n",
    "        sv.saver.save(session, \"{}/tflog\".format(DATA_PATH), global_step=sv.global_step)"
   ]
  },
  {
   "cell_type": "code",
   "execution_count": 33,
   "metadata": {
    "collapsed": false
   },
   "outputs": [],
   "source": [
    "all_probs = test_probs"
   ]
  },
  {
   "cell_type": "code",
   "execution_count": 34,
   "metadata": {
    "collapsed": true
   },
   "outputs": [],
   "source": [
    "test_probs = all_probs[0]"
   ]
  },
  {
   "cell_type": "code",
   "execution_count": 36,
   "metadata": {
    "collapsed": false
   },
   "outputs": [],
   "source": [
    "RE_ident = re.compile('[a-zA-Z]+')\n",
    "known_identifiers_mask = np.array([1.0 if re.match(RE_ident, w) else 0.0 for w in words])\n",
    "flag_mask = np.array([1.0 if (w == '<flag>' or w == '<no-flag>') else 0.0 for w in words])"
   ]
  },
  {
   "cell_type": "code",
   "execution_count": 37,
   "metadata": {
    "collapsed": true
   },
   "outputs": [],
   "source": [
    "known_mask = np.array([1.0 if (w != '<unk>') else 0.0 for w in words])"
   ]
  },
  {
   "cell_type": "code",
   "execution_count": 38,
   "metadata": {
    "collapsed": false
   },
   "outputs": [],
   "source": [
    "def predict_flag(probs):\n",
    "    new_probs = np.apply_along_axis(\n",
    "        lambda r: r*flag_mask,\n",
    "        1,\n",
    "        probs\n",
    "    )\n",
    "    return np.argmax(new_probs, axis=1)\n",
    "\n",
    "def predict_ident(probs):\n",
    "    new_probs = np.apply_along_axis(\n",
    "        lambda r: r*known_identifiers_mask,\n",
    "        1,\n",
    "        probs\n",
    "    )\n",
    "    return np.argmax(new_probs, axis=1)\n",
    "\n",
    "def predict_known(probs):\n",
    "    new_probs = np.apply_along_axis(\n",
    "        lambda r: r*known_mask,\n",
    "        1,\n",
    "        probs\n",
    "    )\n",
    "    return np.argmax(new_probs, axis=1)"
   ]
  },
  {
   "cell_type": "code",
   "execution_count": 39,
   "metadata": {
    "collapsed": false
   },
   "outputs": [
    {
     "data": {
      "text/plain": [
       "u'<unk> : <unk> RegExp ( [String] + <unk> + [String] , , <unk> : <unk> RegExp ( [String] + <unk> <unk> ( ( apply , <unk> ( <unk> , <unk> ) { <unk> . $set ( <unk> , <unk> ) ; , , <unk> . $on ( [Keyword|function] . <unk> ( ) ) { [Keyword|return] <unk> . globals ( <unk> , , <unk> . each ( <unk> = [Keyword|function] . getTrusted ( [Keyword|function] ( <unk> ) <unk> ) { [Keyword|return] . parent ( [String] + <unk> + [String] + , join > <unk> . length ( { ) , <unk> <unk> <unk> || $attr ( [String] ) ) , <unk> = <unk> . slice ( <unk> ) type ) ? <unk> [Numeric] : [Numeric] . <unk> ? <unk> ( shiftKey === <unk> ? <unk> !== <unk> ) <unk> ) || . [Numeric] ] || <unk> && <unk> : <unk> === [Keyword|function] <unk> = { <unk> ( , <unk> = prototype <unk> ] expando ( ) ] ] <unk> = <unk> [ <unk> [ replace ( <unk> , substring , <unk> top : <unk> === <unk> . [Numeric] === <unk> ) [String] === <unk> ) [Keyword|return] [Keyword|var] ( <unk> === [Keyword|typeof] . parent ( [Numeric] ) <unk> ) , [Keyword|function] <unk> : [Keyword|function] ( <unk> ) { [Keyword|return] <unk> . <unk> prototype > ; <unk> <unk> = <unk> ] . <unk> ) [Numeric] ] . replace ( [Numeric] ) <unk> ) . <unk> == <unk> ? <unk> . <unk> ? <unk> == <unk> ? <unk> = ( === <unk> . keyCode . } [Keyword|var] ( <unk> = { [Keyword|var] ( <unk> <unk> . ) <unk> [Keyword|var] ( <unk> = <unk> . . [Numeric] ] || ( <unk> [ <unk> ] = <unk> value ) ; <unk> [ <unk> [ <unk> ] . } [Keyword|var] <unk> } <unk> ] = <unk> . <unk> , : <unk> } get ? [Numeric] } <unk> <unk> = } [Keyword|var] <unk> . <unk> ] . <unk> [ <unk> [ <unk> , <unk> , <unk> , <unk> <unk> ) , [Keyword|var] <unk> = <unk> . parentNode ; <unk> . parentNode . $eval ( [Keyword|return] <unk> && <unk> <unk> ) , [Keyword|var] <unk> . substr ( <unk> ) path ) ? [Keyword|function] <unk> : [Keyword|function] ( <unk> ) ; [Keyword|var] <unk> } , , <unk> . [Keyword|function] . [String] ( ) ) <unk> ) <unk> ) { [Keyword|return]'"
      ]
     },
     "execution_count": 39,
     "metadata": {},
     "output_type": "execute_result"
    }
   ],
   "source": [
    "stringify( np.argmax(test_probs, axis=1) )"
   ]
  },
  {
   "cell_type": "code",
   "execution_count": 43,
   "metadata": {
    "collapsed": false
   },
   "outputs": [
    {
     "data": {
      "text/plain": [
       "array([200089, 200089, 200089, 200089, 200089, 200089, 200089, 200089,\n",
       "       200089, 200089, 200089, 200089, 200088, 200088, 200089, 200089,\n",
       "       200089, 200089, 200089, 200089, 200089, 200089, 200089, 200088,\n",
       "       200089, 200089, 200088, 200089, 200089, 200089, 200089, 200089,\n",
       "       200089, 200089, 200088, 200088, 200089, 200089, 200089, 200089,\n",
       "       200089, 200089, 200089, 200089, 200089, 200088, 200089, 200089,\n",
       "       200089, 200089, 200089, 200089, 200089, 200089, 200089, 200089,\n",
       "       200089, 200089, 200088, 200089, 200089, 200089, 200089, 200089,\n",
       "       200088, 200089, 200089, 200088, 200089, 200089, 200088, 200089,\n",
       "       200089, 200088, 200089, 200089, 200089, 200089, 200089, 200089,\n",
       "       200089, 200088, 200088, 200089, 200089, 200089, 200089, 200089,\n",
       "       200088, 200089, 200088, 200089, 200089, 200089, 200089, 200088,\n",
       "       200089, 200089, 200089, 200089, 200089, 200089, 200089, 200088,\n",
       "       200088, 200088, 200089, 200089, 200089, 200089, 200089, 200089,\n",
       "       200089, 200088, 200089, 200089, 200089, 200088, 200089, 200089,\n",
       "       200089, 200089, 200089, 200089, 200089, 200089, 200089, 200089,\n",
       "       200089, 200089, 200089, 200089, 200089, 200089, 200089, 200089,\n",
       "       200089, 200089, 200089, 200089, 200089, 200089, 200089, 200089,\n",
       "       200088, 200089, 200089, 200089, 200089, 200089, 200089, 200089,\n",
       "       200089, 200089, 200089, 200089, 200089, 200088, 200088, 200088,\n",
       "       200089, 200089, 200089, 200088, 200088, 200089, 200089, 200089,\n",
       "       200089, 200089, 200089, 200089, 200089, 200089, 200089, 200089,\n",
       "       200089, 200089, 200089, 200089, 200089, 200089, 200089, 200089,\n",
       "       200089, 200089, 200089, 200089, 200088, 200088, 200089, 200089,\n",
       "       200088, 200088, 200088, 200089, 200088, 200089, 200089, 200089,\n",
       "       200089, 200088, 200089, 200088, 200089, 200089, 200089, 200089,\n",
       "       200089, 200089, 200088, 200089, 200088, 200088, 200089, 200089,\n",
       "       200089, 200089, 200089, 200089, 200088, 200089, 200089, 200089,\n",
       "       200089, 200089, 200089, 200089, 200089, 200089, 200089, 200089,\n",
       "       200089, 200089, 200089, 200088, 200088, 200089, 200089, 200089,\n",
       "       200089, 200089, 200089, 200088, 200089, 200088, 200089, 200089,\n",
       "       200089, 200089, 200089, 200089, 200089, 200089, 200089, 200089,\n",
       "       200089, 200089, 200089, 200089, 200089, 200089, 200089, 200089,\n",
       "       200089, 200089, 200089, 200089, 200089, 200089, 200089, 200089,\n",
       "       200089, 200089, 200089, 200089, 200089, 200089, 200089, 200089,\n",
       "       200089, 200089, 200089, 200089, 200089, 200089, 200089, 200089,\n",
       "       200089, 200089, 200089, 200089, 200089, 200089, 200089, 200089,\n",
       "       200089, 200089, 200089, 200089, 200089, 200089, 200089, 200089,\n",
       "       200089, 200089, 200089, 200089, 200089, 200089, 200089, 200089,\n",
       "       200089, 200089, 200089, 200089, 200089, 200089, 200089, 200089,\n",
       "       200089, 200089, 200089, 200089, 200089, 200089, 200089, 200089,\n",
       "       200089, 200089, 200089, 200089, 200089, 200089, 200089, 200089,\n",
       "       200089, 200089, 200089, 200089, 200089, 200089, 200089, 200089,\n",
       "       200089, 200089, 200089, 200089, 200089, 200089, 200089, 200089,\n",
       "       200089, 200088, 200089, 200089, 200089, 200089, 200089, 200089,\n",
       "       200089, 200089, 200089, 200089, 200089, 200089, 200089, 200089,\n",
       "       200089, 200089, 200089, 200089, 200089, 200089, 200089, 200088,\n",
       "       200089, 200089, 200089, 200089, 200089, 200089, 200089, 200089,\n",
       "       200089, 200089, 200089, 200089, 200089, 200089, 200088, 200088,\n",
       "       200089, 200089, 200089, 200089, 200089, 200089, 200089, 200089])"
      ]
     },
     "execution_count": 43,
     "metadata": {},
     "output_type": "execute_result"
    }
   ],
   "source": [
    "predict_flag(test_probs)"
   ]
  }
 ],
 "metadata": {
  "anaconda-cloud": {},
  "kernelspec": {
   "display_name": "Python 2",
   "language": "python",
   "name": "python2"
  },
  "language_info": {
   "codemirror_mode": {
    "name": "ipython",
    "version": 2
   },
   "file_extension": ".py",
   "mimetype": "text/x-python",
   "name": "python",
   "nbconvert_exporter": "python",
   "pygments_lexer": "ipython2",
   "version": "2.7.6"
  }
 },
 "nbformat": 4,
 "nbformat_minor": 1
}
