{
 "cells": [
  {
   "cell_type": "code",
   "execution_count": 1,
   "metadata": {
    "collapsed": false
   },
   "outputs": [
    {
     "data": {
      "text/plain": [
       "<module 'util' from 'util.pyc'>"
      ]
     },
     "execution_count": 1,
     "metadata": {},
     "output_type": "execute_result"
    }
   ],
   "source": [
    "%matplotlib inline\n",
    "\n",
    "REPO_ROOT = \"/usr/src/app\"\n",
    "\n",
    "import collections\n",
    "import json\n",
    "import math\n",
    "import pickle\n",
    "import random\n",
    "import time\n",
    "\n",
    "import matplotlib.pyplot as plt\n",
    "import numpy as np\n",
    "from sklearn.manifold import TSNE\n",
    "\n",
    "import theano\n",
    "import theano.tensor as T\n",
    "import lasagne\n",
    "\n",
    "import util\n",
    "reload(util)"
   ]
  },
  {
   "cell_type": "code",
   "execution_count": 2,
   "metadata": {
    "collapsed": false
   },
   "outputs": [],
   "source": [
    "with open(\"%s/model-data/metadata.pickle\" % (REPO_ROOT,), \"r\") as f:\n",
    "    size_data = pickle.load(f)\n",
    "    \n",
    "TRAIN_SIZES = size_data[\"train_sizes\"]\n",
    "TEST_SIZE = size_data[\"test_size\"]\n",
    "\n",
    "BATCH_SIZE = 100\n",
    "VOCAB_SIZE = 10000\n",
    "WORD_EMBEDDING_SIZE = 1600"
   ]
  },
  {
   "cell_type": "code",
   "execution_count": 3,
   "metadata": {
    "collapsed": false
   },
   "outputs": [],
   "source": [
    "with open(\"%s/scripts/table_balanced.json\" % REPO_ROOT) as f:\n",
    "    data_table = json.load(f)"
   ]
  },
  {
   "cell_type": "code",
   "execution_count": 4,
   "metadata": {
    "collapsed": true
   },
   "outputs": [],
   "source": [
    "class Vocabulary(object):\n",
    "    def __init__(self, data_table, tokenizer, parser, vocab_size):\n",
    "        self.vocab_size = vocab_size\n",
    "        \n",
    "        counts = collections.Counter()\n",
    "        \n",
    "        for idx, script in enumerate(parser(data_table)):\n",
    "            if idx % 1000 == 0:\n",
    "                print \"%d done.\" % idx\n",
    "                \n",
    "            tokens = tokenizer(script)\n",
    "            counts.update(tokens)\n",
    "\n",
    "        self.word_table = {\n",
    "            entry[0]: idx\n",
    "            for idx, entry in enumerate(counts.most_common(self.vocab_size - 1))\n",
    "        }\n",
    "\n",
    "        print \"Done\"\n",
    "        \n",
    "    def numerize(self, word):\n",
    "        return self.word_table.get(word, self.vocab_size-1)\n",
    "    \n",
    "    def size(self):\n",
    "        return self.vocab_size\n",
    "    \n",
    "    def save(self, name):\n",
    "        with open(\"%s/model-data/vocab_%s.pickle\" % (REPO_ROOT, name), \"w\") as f:\n",
    "            pickle.dump(self.word_table, f)"
   ]
  },
  {
   "cell_type": "code",
   "execution_count": 5,
   "metadata": {
    "collapsed": true
   },
   "outputs": [],
   "source": [
    "class Word2Vec(object):\n",
    "    def __init__(self, vocab, data_table, tokenizer, parser,\n",
    "                 batch_size, embedding_size, train_size, test_size):\n",
    "        self.vocab = vocab\n",
    "        self.data_table = data_table\n",
    "        self.tokenizer = tokenizer\n",
    "        self.parser = parser\n",
    "        self.batch_size = batch_size\n",
    "        self.vocab_size = vocab.size()\n",
    "        self.embedding_size = embedding_size\n",
    "        self.train_size = train_size\n",
    "        self.test_size = test_size\n",
    "        \n",
    "        self.input_var = T.lvector('inputs')\n",
    "        self.target_var = T.lvector('targets')\n",
    "    \n",
    "        l_context = lasagne.layers.InputLayer(shape=(batch_size,), input_var=self.input_var)\n",
    "\n",
    "        l_embedding = lasagne.layers.EmbeddingLayer(l_context, input_size=self.vocab_size, output_size=embedding_size)\n",
    "\n",
    "        l_in_drop = lasagne.layers.DropoutLayer(l_embedding, p=0.2)\n",
    "\n",
    "        l_hid1 = lasagne.layers.DenseLayer(\n",
    "            l_in_drop, num_units=40,\n",
    "            nonlinearity=lasagne.nonlinearities.tanh,\n",
    "            W=lasagne.init.GlorotUniform())\n",
    "\n",
    "        l_hid1_drop = lasagne.layers.DropoutLayer(l_hid1, p=0.5)\n",
    "\n",
    "        output = lasagne.layers.DenseLayer(\n",
    "            l_hid1_drop, num_units=self.vocab_size,\n",
    "            nonlinearity=lasagne.nonlinearities.softmax)\n",
    "\n",
    "        prediction = lasagne.layers.get_output(output)\n",
    "        loss = lasagne.objectives.categorical_crossentropy(prediction, self.target_var)\n",
    "        loss = loss.mean()\n",
    "\n",
    "        params = lasagne.layers.get_all_params(output, trainable=True)\n",
    "        updates = lasagne.updates.adam(loss, params)\n",
    "\n",
    "        test_prediction = lasagne.layers.get_output(output, deterministic=True)\n",
    "        test_loss = lasagne.objectives.categorical_crossentropy(test_prediction, self.target_var)\n",
    "        test_loss = test_loss.mean()\n",
    "\n",
    "        test_acc = T.mean(T.eq(T.argmax(test_prediction, axis=1), self.target_var),\n",
    "                      dtype=theano.config.floatX)\n",
    "\n",
    "        self.train_fn = theano.function([self.input_var, self.target_var], loss, updates=updates)\n",
    "        self.val_fn = theano.function([self.input_var, self.target_var], [test_loss, test_acc])\n",
    "        \n",
    "        input_tokens = T.ivector('token')\n",
    "        l_in = lasagne.layers.InputLayer(\n",
    "            shape=(None,), input_var=input_tokens)\n",
    "        l_emb = lasagne.layers.EmbeddingLayer(\n",
    "            incoming=l_in,\n",
    "            input_size=self.vocab_size,\n",
    "            output_size=embedding_size,\n",
    "            W=l_embedding.W)\n",
    "        embedding = lasagne.layers.get_output(l_emb)\n",
    "        self.embed = theano.function([input_tokens], embedding)\n",
    "\n",
    "    def generate_batch(self, table, sample_ratio):\n",
    "        x = np.ndarray(shape=(self.batch_size,), dtype=np.int32)\n",
    "        y = np.ndarray(shape=(self.batch_size,), dtype=np.int32)\n",
    "        batch_idx = 0\n",
    "        for script in self.parser(table):\n",
    "            tokens = [self.vocab.numerize(token) for token in self.tokenizer(script)]\n",
    "            if len(tokens) < 2:\n",
    "                continue\n",
    "\n",
    "            sample_size = len(tokens) - 2\n",
    "            if sample_ratio < 0.999:\n",
    "                num_to_sample = max(1, int(math.floor(sample_size * sample_ratio)))\n",
    "                samples = random.sample(range(sample_size + 1), num_to_sample)\n",
    "            else:\n",
    "                samples = xrange(sample_size + 1)\n",
    "            for pos in samples:\n",
    "                x[batch_idx] = tokens[pos]\n",
    "                y[batch_idx] = tokens[pos+1]\n",
    "                batch_idx += 1\n",
    "                if batch_idx == self.batch_size:\n",
    "                    yield x, y\n",
    "                    batch_idx = 0\n",
    "    \n",
    "    def train(self):\n",
    "        best_accuracy = 0\n",
    "        bad_count = 0\n",
    "        for epoch in xrange(999):\n",
    "            # In each epoch, we do a full pass over the training data:\n",
    "            train_err = 0\n",
    "            train_batches = 0\n",
    "\n",
    "            for inputs, targets in self.generate_batch(self.data_table[:self.train_size], 1.0):\n",
    "                train_err += self.train_fn(inputs, targets)\n",
    "                train_batches += 1\n",
    "                if train_batches % 1000 == 0:\n",
    "                    # And a pass over the validation data:\n",
    "                    val_err = 0\n",
    "                    val_acc = 0\n",
    "                    val_batches = 0\n",
    "                    for inputs, targets in self.generate_batch(self.data_table[-self.test_size:], 0.005):\n",
    "                        err, acc = self.val_fn(inputs, targets)\n",
    "                        val_err += err\n",
    "                        val_acc += acc\n",
    "                        val_batches += 1\n",
    "\n",
    "                    current_accuracy = val_acc / val_batches\n",
    "\n",
    "                    # Then we print the results for this epoch:\n",
    "                    print(\"Epoch {} Batch {} - loss {:.2f}, accuracy {:.2f} %\".format(\n",
    "                        epoch + 1, train_batches, train_err / train_batches, current_accuracy * 100))\n",
    "\n",
    "                    if current_accuracy > best_accuracy:\n",
    "                        best_accuracy = current_accuracy\n",
    "                        bad_count = 0\n",
    "                    else:\n",
    "                        bad_count += 1\n",
    "                        if bad_count > 4:\n",
    "                            break\n",
    "                            \n",
    "            if bad_count > 4:\n",
    "                break\n",
    "                \n",
    "        self.embeddings = self.embed(range(self.vocab_size))\n",
    "    \n",
    "    def plot(self):\n",
    "        model = TSNE(n_components=2, random_state=0)\n",
    "        points = model.fit_transform(self.embeddings)\n",
    "\n",
    "        idx_dict = {v: k for k, v in self.vocab.word_table.iteritems()}\n",
    "        words = [idx_dict[idx] for idx in xrange(100)]\n",
    "\n",
    "        fig, ax = plt.subplots(figsize=(12, 12))\n",
    "        ax.plot(points[:100,0], points[:100,1], 'bo', markersize=0)\n",
    "\n",
    "        for i, txt in enumerate(words[:100]):\n",
    "            ax.annotate(txt, (points[i][0],points[i][1]))\n",
    "            \n",
    "    def embedding_lookup(self, table_rows):\n",
    "        vocab_size, embed_size = np.shape(self.embeddings)\n",
    "        embeddings_trans = np.transpose(self.embeddings)\n",
    "\n",
    "        ret = np.zeros([len(table_rows), embed_size])\n",
    "        for script_idx, script in enumerate(self.parser(table_rows)):\n",
    "            token_ids = [\n",
    "                self.vocab.numerize(token)\n",
    "                for token in self.tokenizer(script)\n",
    "            ]\n",
    "            word_vec = np.zeros(vocab_size)\n",
    "            for token_id in token_ids:\n",
    "                word_vec[token_id] += 1\n",
    "\n",
    "            ret[script_idx] = np.matmul(embeddings_trans, word_vec)\n",
    "\n",
    "        return ret\n",
    "\n",
    "    def save_training_set(self, model_name):\n",
    "        data = {\n",
    "            \"X_train\": self.embedding_lookup(self.data_table[:self.train_size]),\n",
    "            \"Y_train\": np.array([item[\"flag-any\"] for item in self.data_table[:self.train_size]]),\n",
    "            \"X_test\": self.embedding_lookup(self.data_table[-self.test_size:]),\n",
    "            \"Y_test\": np.array([item[\"flag-any\"] for item in self.data_table[-self.test_size:]]),\n",
    "            \"shas_test\": [item[\"sha\"] for item in self.data_table[-self.test_size:]],\n",
    "        }\n",
    "\n",
    "        with open(\"%s/model-data/dataset_%s_%d.pickle\" % (REPO_ROOT, model_name, self.train_size), \"w\") as f:\n",
    "            pickle.dump(data, f)\n",
    "            \n",
    "    def save_embeddings(self, model_name):\n",
    "        with open(\"%s/model-data/embeddings_%s_%d.pickle\" % (REPO_ROOT, model_name, self.train_size), \"w\") as f:\n",
    "            pickle.dump(self.embeddings, f)"
   ]
  },
  {
   "cell_type": "code",
   "execution_count": 8,
   "metadata": {
    "collapsed": false
   },
   "outputs": [
    {
     "name": "stdout",
     "output_type": "stream",
     "text": [
      "Word2Vec vocabulary...\n",
      "0 done.\n",
      "1000 done.\n",
      "2000 done.\n",
      "3000 done.\n",
      "4000 done.\n",
      "5000 done.\n",
      "6000 done.\n",
      "7000 done.\n",
      "8000 done.\n",
      "9000 done.\n",
      "10000 done.\n",
      "11000 done.\n",
      "12000 done.\n",
      "13000 done.\n",
      "14000 done.\n",
      "15000 done.\n",
      "16000 done.\n",
      "17000 done.\n",
      "18000 done.\n",
      "19000 done.\n",
      "20000 done.\n",
      "21000 done.\n",
      "22000 done.\n",
      "Done\n"
     ]
    }
   ],
   "source": [
    "print \"Word2Vec vocabulary...\"\n",
    "vocab_js = Vocabulary(data_table, util.tokenize_js, util.parse_js, VOCAB_SIZE)\n",
    "vocab_js.save(\"js\")"
   ]
  },
  {
   "cell_type": "code",
   "execution_count": null,
   "metadata": {
    "collapsed": false
   },
   "outputs": [],
   "source": [
    "for train_size in TRAIN_SIZES:\n",
    "    print \"Random2Vec Training size %d\" % train_size\n",
    "\n",
    "    g = Word2Vec(vocab_js, data_table, util.tokenize_js, util.parse_js,\n",
    "                 BATCH_SIZE, WORD_EMBEDDING_SIZE, train_size, TEST_SIZE)\n",
    "    g.embeddings = np.random.rand(VOCAB_SIZE, WORD_EMBEDDING_SIZE)\n",
    "    g.save_training_set(\"Random2Vec\")\n",
    "    \n",
    "print \"Done training.\""
   ]
  },
  {
   "cell_type": "code",
   "execution_count": 9,
   "metadata": {
    "collapsed": false
   },
   "outputs": [
    {
     "name": "stdout",
     "output_type": "stream",
     "text": [
      "Word2Vec Training size 600\n",
      "Epoch 1 Batch 1000 - loss 4.07, accuracy 18.90 %\n",
      "Epoch 1 Batch 2000 - loss 4.18, accuracy 7.64 %\n",
      "Epoch 1 Batch 3000 - loss 4.19, accuracy 14.98 %\n",
      "Epoch 1 Batch 4000 - loss 4.01, accuracy 24.18 %\n",
      "Epoch 1 Batch 5000 - loss 3.87, accuracy 8.06 %\n",
      "Epoch 1 Batch 6000 - loss 3.54, accuracy 6.17 %\n"
     ]
    },
    {
     "ename": "KeyboardInterrupt",
     "evalue": "",
     "output_type": "error",
     "traceback": [
      "\u001b[0;31m---------------------------------------------------------------------------\u001b[0m",
      "\u001b[0;31mKeyboardInterrupt\u001b[0m                         Traceback (most recent call last)",
      "\u001b[0;32m<ipython-input-9-d0d35e0094f0>\u001b[0m in \u001b[0;36m<module>\u001b[0;34m()\u001b[0m\n\u001b[1;32m      4\u001b[0m     g = Word2Vec(vocab_js, data_table, util.tokenize_js, util.parse_js,\n\u001b[1;32m      5\u001b[0m                  BATCH_SIZE, WORD_EMBEDDING_SIZE, train_size, TEST_SIZE)\n\u001b[0;32m----> 6\u001b[0;31m     \u001b[0mg\u001b[0m\u001b[0;34m.\u001b[0m\u001b[0mtrain\u001b[0m\u001b[0;34m(\u001b[0m\u001b[0;34m)\u001b[0m\u001b[0;34m\u001b[0m\u001b[0m\n\u001b[0m\u001b[1;32m      7\u001b[0m     \u001b[0;32mprint\u001b[0m \u001b[0;34m\"Saving embeddings...\"\u001b[0m\u001b[0;34m\u001b[0m\u001b[0m\n\u001b[1;32m      8\u001b[0m     \u001b[0mg\u001b[0m\u001b[0;34m.\u001b[0m\u001b[0msave_training_set\u001b[0m\u001b[0;34m(\u001b[0m\u001b[0;34m\"Word2Vec\"\u001b[0m\u001b[0;34m)\u001b[0m\u001b[0;34m\u001b[0m\u001b[0m\n",
      "\u001b[0;32m<ipython-input-5-29a81504f049>\u001b[0m in \u001b[0;36mtrain\u001b[0;34m(self)\u001b[0m\n\u001b[1;32m     92\u001b[0m \u001b[0;34m\u001b[0m\u001b[0m\n\u001b[1;32m     93\u001b[0m             \u001b[0;32mfor\u001b[0m \u001b[0minputs\u001b[0m\u001b[0;34m,\u001b[0m \u001b[0mtargets\u001b[0m \u001b[0;32min\u001b[0m \u001b[0mself\u001b[0m\u001b[0;34m.\u001b[0m\u001b[0mgenerate_batch\u001b[0m\u001b[0;34m(\u001b[0m\u001b[0mself\u001b[0m\u001b[0;34m.\u001b[0m\u001b[0mdata_table\u001b[0m\u001b[0;34m[\u001b[0m\u001b[0;34m:\u001b[0m\u001b[0mself\u001b[0m\u001b[0;34m.\u001b[0m\u001b[0mtrain_size\u001b[0m\u001b[0;34m]\u001b[0m\u001b[0;34m,\u001b[0m \u001b[0;36m1.0\u001b[0m\u001b[0;34m)\u001b[0m\u001b[0;34m:\u001b[0m\u001b[0;34m\u001b[0m\u001b[0m\n\u001b[0;32m---> 94\u001b[0;31m                 \u001b[0mtrain_err\u001b[0m \u001b[0;34m+=\u001b[0m \u001b[0mself\u001b[0m\u001b[0;34m.\u001b[0m\u001b[0mtrain_fn\u001b[0m\u001b[0;34m(\u001b[0m\u001b[0minputs\u001b[0m\u001b[0;34m,\u001b[0m \u001b[0mtargets\u001b[0m\u001b[0;34m)\u001b[0m\u001b[0;34m\u001b[0m\u001b[0m\n\u001b[0m\u001b[1;32m     95\u001b[0m                 \u001b[0mtrain_batches\u001b[0m \u001b[0;34m+=\u001b[0m \u001b[0;36m1\u001b[0m\u001b[0;34m\u001b[0m\u001b[0m\n\u001b[1;32m     96\u001b[0m                 \u001b[0;32mif\u001b[0m \u001b[0mtrain_batches\u001b[0m \u001b[0;34m%\u001b[0m \u001b[0;36m1000\u001b[0m \u001b[0;34m==\u001b[0m \u001b[0;36m0\u001b[0m\u001b[0;34m:\u001b[0m\u001b[0;34m\u001b[0m\u001b[0m\n",
      "\u001b[0;32m/usr/local/lib/python2.7/dist-packages/theano/compile/function_module.pyc\u001b[0m in \u001b[0;36m__call__\u001b[0;34m(self, *args, **kwargs)\u001b[0m\n\u001b[1;32m    857\u001b[0m         \u001b[0mt0_fn\u001b[0m \u001b[0;34m=\u001b[0m \u001b[0mtime\u001b[0m\u001b[0;34m.\u001b[0m\u001b[0mtime\u001b[0m\u001b[0;34m(\u001b[0m\u001b[0;34m)\u001b[0m\u001b[0;34m\u001b[0m\u001b[0m\n\u001b[1;32m    858\u001b[0m         \u001b[0;32mtry\u001b[0m\u001b[0;34m:\u001b[0m\u001b[0;34m\u001b[0m\u001b[0m\n\u001b[0;32m--> 859\u001b[0;31m             \u001b[0moutputs\u001b[0m \u001b[0;34m=\u001b[0m \u001b[0mself\u001b[0m\u001b[0;34m.\u001b[0m\u001b[0mfn\u001b[0m\u001b[0;34m(\u001b[0m\u001b[0;34m)\u001b[0m\u001b[0;34m\u001b[0m\u001b[0m\n\u001b[0m\u001b[1;32m    860\u001b[0m         \u001b[0;32mexcept\u001b[0m \u001b[0mException\u001b[0m\u001b[0;34m:\u001b[0m\u001b[0;34m\u001b[0m\u001b[0m\n\u001b[1;32m    861\u001b[0m             \u001b[0;32mif\u001b[0m \u001b[0mhasattr\u001b[0m\u001b[0;34m(\u001b[0m\u001b[0mself\u001b[0m\u001b[0;34m.\u001b[0m\u001b[0mfn\u001b[0m\u001b[0;34m,\u001b[0m \u001b[0;34m'position_of_error'\u001b[0m\u001b[0;34m)\u001b[0m\u001b[0;34m:\u001b[0m\u001b[0;34m\u001b[0m\u001b[0m\n",
      "\u001b[0;31mKeyboardInterrupt\u001b[0m: "
     ]
    }
   ],
   "source": [
    "for train_size in TRAIN_SIZES[1:]:\n",
    "    print \"Word2Vec Training size %d\" % train_size\n",
    "    \n",
    "    g = Word2Vec(vocab_js, data_table, util.tokenize_js, util.parse_js,\n",
    "                 BATCH_SIZE, WORD_EMBEDDING_SIZE, train_size, TEST_SIZE)\n",
    "    g.train()\n",
    "    print \"Saving embeddings...\"\n",
    "    g.save_training_set(\"Word2Vec\")\n",
    "    g.save_embeddings(\"Word2Vec\")\n",
    "    \n",
    "    if train_size == TRAIN_SIZES[-1]:\n",
    "        g.plot()\n",
    "    \n",
    "print \"Done training.\""
   ]
  },
  {
   "cell_type": "code",
   "execution_count": null,
   "metadata": {
    "collapsed": false
   },
   "outputs": [],
   "source": [
    "print \"AST2Vec vocabulary...\"\n",
    "vocab_ast = Vocabulary(data_table, util.tokenize_ast, util.parse_ast, VOCAB_SIZE)\n",
    "vocab_ast.save(\"ast\")"
   ]
  },
  {
   "cell_type": "code",
   "execution_count": null,
   "metadata": {
    "collapsed": false
   },
   "outputs": [],
   "source": [
    "for train_size in TRAIN_SIZES:\n",
    "    print \"AST2Vec Training size %d\" % train_size\n",
    "    \n",
    "    g = Word2Vec(vocab_ast, data_table, util.tokenize_ast, util.parse_ast,\n",
    "                 BATCH_SIZE, WORD_EMBEDDING_SIZE, train_size, TEST_SIZE)\n",
    "    g.train()\n",
    "    print \"Saving embeddings...\"\n",
    "    g.save_training_set(\"AST2Vec\")\n",
    "    g.save_embeddings(\"AST2Vec\")\n",
    "    \n",
    "    if train_size == TRAIN_SIZES[-1]:\n",
    "        g.plot()\n",
    "      \n",
    "print \"Done training.\""
   ]
  },
  {
   "cell_type": "code",
   "execution_count": null,
   "metadata": {
    "collapsed": true
   },
   "outputs": [],
   "source": []
  }
 ],
 "metadata": {
  "kernelspec": {
   "display_name": "Python 2",
   "language": "python",
   "name": "python2"
  },
  "language_info": {
   "codemirror_mode": {
    "name": "ipython",
    "version": 2
   },
   "file_extension": ".py",
   "mimetype": "text/x-python",
   "name": "python",
   "nbconvert_exporter": "python",
   "pygments_lexer": "ipython2",
   "version": "2.7.12"
  }
 },
 "nbformat": 4,
 "nbformat_minor": 1
}
