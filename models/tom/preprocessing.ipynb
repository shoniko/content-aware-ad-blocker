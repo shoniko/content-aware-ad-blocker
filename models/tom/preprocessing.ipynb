{
 "cells": [
  {
   "cell_type": "code",
   "execution_count": 1,
   "metadata": {
    "collapsed": true
   },
   "outputs": [],
   "source": [
    "REPO_ROOT = \"/usr/src/app\"\n",
    "\n",
    "import json\n",
    "import pickle\n",
    "import re\n",
    "\n",
    "import numpy as np\n",
    "\n",
    "from sklearn.feature_extraction.text import TfidfVectorizer\n",
    "from sklearn.pipeline import make_pipeline\n",
    "\n",
    "import util"
   ]
  },
  {
   "cell_type": "code",
   "execution_count": 2,
   "metadata": {
    "collapsed": false
   },
   "outputs": [
    {
     "name": "stdout",
     "output_type": "stream",
     "text": [
      "Training sizes: [300, 600, 1200, 2400, 4800, 9600, 19200]\n",
      "Test size: 3588\n"
     ]
    }
   ],
   "source": [
    "with open(\"%s/scripts/table_balanced.json\" % REPO_ROOT) as f:\n",
    "    data_table = json.load(f)\n",
    "    \n",
    "TOTAL_SIZE = len(data_table)\n",
    "TRAIN_SIZES = []\n",
    "size = 300\n",
    "while size < TOTAL_SIZE - 1000:\n",
    "    TRAIN_SIZES.append(size)\n",
    "    size *= 2\n",
    "    \n",
    "TEST_SIZE = TOTAL_SIZE - TRAIN_SIZES[-1]\n",
    "\n",
    "data = {\n",
    "    \"train_sizes\": TRAIN_SIZES,\n",
    "    \"test_size\": TEST_SIZE\n",
    "}\n",
    "with open(\"%s/model-data/metadata.pickle\" % (REPO_ROOT,), \"w\") as f:\n",
    "    pickle.dump(data, f)\n",
    "\n",
    "print \"Training sizes: %s\" % TRAIN_SIZES\n",
    "print \"Test size: %d\" % TEST_SIZE"
   ]
  },
  {
   "cell_type": "code",
   "execution_count": 14,
   "metadata": {
    "collapsed": true
   },
   "outputs": [],
   "source": [
    "def vectorize_table(model_type, analyzer, parser, table, train_size, test_size, test_parser=None):\n",
    "    vectorizer = TfidfVectorizer(analyzer=analyzer, max_features=500000, min_df=2)\n",
    "    \n",
    "    X_train = vectorizer.fit_transform(parser(table[:train_size]))\n",
    "    if test_parser == None:\n",
    "        test_parser = parser\n",
    "    X_test = vectorizer.transform(test_parser(table[-test_size:]))\n",
    "    data = {\n",
    "        \"X_train\": X_train,\n",
    "        \"Y_train\": np.array([item[\"flag-any\"] for item in table[:train_size]]),\n",
    "        \"X_test\": X_test,\n",
    "        \"Y_test\": np.array([item[\"flag-any\"] for item in table[-test_size:]]),\n",
    "        \"shas_test\": [item[\"sha\"] for item in table[-test_size:]],\n",
    "        \"urls_test\": [item[\"url\"] for item in table[-test_size:]]\n",
    "    }\n",
    "    \n",
    "    print \"Trained: %d features.\" % data[\"X_train\"].shape[1]\n",
    "    \n",
    "    with open(\"%s/model-data/dataset_%s_%d.pickle\" % (REPO_ROOT, model_type, train_size), \"w\") as f:\n",
    "        pickle.dump(data, f)\n",
    "    \n",
    "    with open(\"%s/model-data/vocab_%s_%d.pickle\" % (REPO_ROOT, model_type, train_size), \"w\") as f:\n",
    "        pickle.dump({\n",
    "            \"vocab\": vectorizer.vocabulary_,\n",
    "            \"idf\": vectorizer.idf_\n",
    "        }, f)\n"
   ]
  },
  {
   "cell_type": "code",
   "execution_count": 45,
   "metadata": {
    "collapsed": false,
    "scrolled": true
   },
   "outputs": [
    {
     "name": "stdout",
     "output_type": "stream",
     "text": [
      "RegEx Training size 300\n",
      "Trained: 5911 features.\n",
      "BiRegEx Training size 300\n",
      "Trained: 38966 features.\n",
      "TriRegEx Training size 300\n",
      "Trained: 106503 features.\n",
      "RegEx Training size 600\n",
      "Trained: 9584 features.\n",
      "BiRegEx Training size 600\n",
      "Trained: 70319 features.\n",
      "TriRegEx Training size 600\n",
      "Trained: 204429 features.\n",
      "RegEx Training size 1200\n",
      "Trained: 15842 features.\n",
      "BiRegEx Training size 1200\n",
      "Trained: 120376 features.\n",
      "TriRegEx Training size 1200\n",
      "Trained: 374022 features.\n",
      "RegEx Training size 2400\n",
      "Trained: 23422 features.\n",
      "BiRegEx Training size 2400\n",
      "Trained: 191982 features.\n",
      "TriRegEx Training size 2400\n",
      "Trained: 500000 features.\n",
      "RegEx Training size 4800\n",
      "Trained: 38305 features.\n",
      "BiRegEx Training size 4800\n",
      "Trained: 300533 features.\n",
      "TriRegEx Training size 4800\n",
      "Trained: 500000 features.\n",
      "RegEx Training size 9600\n",
      "Trained: 58212 features.\n",
      "BiRegEx Training size 9600\n",
      "Trained: 455033 features.\n",
      "TriRegEx Training size 9600\n",
      "Trained: 500000 features.\n",
      "RegEx Training size 19200\n",
      "Trained: 113336 features.\n",
      "BiRegEx Training size 19200\n",
      "Trained: 500000 features.\n",
      "TriRegEx Training size 19200\n",
      "Trained: 500000 features.\n"
     ]
    }
   ],
   "source": [
    "for train_size in TRAIN_SIZES:\n",
    "    print \"RegEx Training size %d\" % train_size\n",
    "    vectorize_table(\"RegEx\", util.tokenize_js, util.parse_js, data_table, train_size, TEST_SIZE)        \n",
    "\n",
    "    print \"BiRegEx Training size %d\" % train_size\n",
    "    vectorize_table(\"BiRegEx\", util.ngramizer(util.tokenize_js, 2), util.parse_js, data_table, train_size, TEST_SIZE)        \n",
    "\n",
    "    print \"TriRegEx Training size %d\" % train_size\n",
    "    vectorize_table(\"TriRegEx\", util.ngramizer(util.tokenize_js, 3), util.parse_js, data_table, train_size, TEST_SIZE)        "
   ]
  },
  {
   "cell_type": "code",
   "execution_count": null,
   "metadata": {
    "collapsed": false
   },
   "outputs": [
    {
     "name": "stdout",
     "output_type": "stream",
     "text": [
      "AST Training size 9600\n",
      "Failed to parse JSON! maximum recursion depth exceeded while calling a Python object\n",
      "Failed to parse JSON! maximum recursion depth exceeded while calling a Python object\n",
      "Trained: 209970 features.\n",
      "BiAST Training size 9600\n",
      "Failed to parse JSON! maximum recursion depth exceeded while calling a Python object\n",
      "Failed to parse JSON! maximum recursion depth exceeded while calling a Python object\n",
      "Trained: 500000 features.\n",
      "TriAST Training size 9600\n",
      "Failed to parse JSON! maximum recursion depth exceeded while calling a Python object\n",
      "Failed to parse JSON! maximum recursion depth exceeded while calling a Python object\n",
      "Trained: 500000 features.\n",
      "AST Training size 19200\n",
      "Failed to parse JSON! maximum recursion depth exceeded while calling a Python object\n",
      "Failed to parse JSON! maximum recursion depth exceeded while calling a Python object\n",
      "Failed to parse JSON! maximum recursion depth exceeded while calling a Python object\n",
      "Trained: 408414 features.\n",
      "BiAST Training size 19200\n",
      "Failed to parse JSON! maximum recursion depth exceeded while calling a Python object\n",
      "Failed to parse JSON! maximum recursion depth exceeded while calling a Python object\n",
      "Failed to parse JSON! maximum recursion depth exceeded while calling a Python object\n",
      "Trained: 500000 features.\n",
      "TriAST Training size 19200\n",
      "Failed to parse JSON! maximum recursion depth exceeded while calling a Python object\n"
     ]
    }
   ],
   "source": [
    "for train_size in TRAIN_SIZES:\n",
    "    print \"AST Training size %d\" % train_size\n",
    "    vectorize_table(\"AST\", util.tokenize_ast, util.parse_ast, data_table, train_size, TEST_SIZE)\n",
    "\n",
    "    print \"BiAST Training size %d\" % train_size\n",
    "    vectorize_table(\"BiAST\", util.ngramizer(util.tokenize_ast, 2), util.parse_ast, data_table, train_size, TEST_SIZE)\n",
    "\n",
    "    print \"TriAST Training size %d\" % train_size\n",
    "    vectorize_table(\"TriAST\", util.ngramizer(util.tokenize_ast, 3), util.parse_ast, data_table, train_size, TEST_SIZE)\n"
   ]
  },
  {
   "cell_type": "code",
   "execution_count": 20,
   "metadata": {
    "collapsed": false
   },
   "outputs": [
    {
     "name": "stdout",
     "output_type": "stream",
     "text": [
      "Url3 Training size 300\n",
      "Trained: 6772 features.\n",
      "Url6 Training size 300\n",
      "Trained: 23336 features.\n",
      "Url12 Training size 300\n",
      "Trained: 51990 features.\n",
      "Url3 Training size 600\n",
      "Trained: 10132 features.\n",
      "Url6 Training size 600\n",
      "Trained: 41612 features.\n",
      "Url12 Training size 600\n",
      "Trained: 102880 features.\n",
      "Url3 Training size 1200\n",
      "Trained: 15086 features.\n",
      "Url6 Training size 1200\n",
      "Trained: 70504 features.\n",
      "Url12 Training size 1200\n",
      "Trained: 181596 features.\n",
      "Url3 Training size 2400\n",
      "Trained: 22250 features.\n",
      "Url6 Training size 2400\n",
      "Trained: 127294 features.\n",
      "Url12 Training size 2400\n",
      "Trained: 368551 features.\n",
      "Url3 Training size 4800\n",
      "Trained: 30477 features.\n",
      "Url6 Training size 4800\n",
      "Trained: 219906 features.\n",
      "Url12 Training size 4800\n",
      "Trained: 500000 features.\n",
      "Url3 Training size 9600\n",
      "Trained: 40396 features.\n",
      "Url6 Training size 9600\n",
      "Trained: 358936 features.\n",
      "Url12 Training size 9600\n",
      "Trained: 500000 features.\n",
      "Url3 Training size 19200\n",
      "Trained: 52669 features.\n",
      "Url6 Training size 19200\n",
      "Trained: 500000 features.\n",
      "Url12 Training size 19200\n",
      "Trained: 500000 features.\n"
     ]
    }
   ],
   "source": [
    "for train_size in TRAIN_SIZES:\n",
    "    print \"Url3 Training size %d\" % train_size\n",
    "    vectorize_table(\"Url3\", util.ngramizer(util.tokenize_url, 3), util.parse_url, data_table, train_size, TEST_SIZE)\n",
    "\n",
    "    print \"Url6 Training size %d\" % train_size\n",
    "    vectorize_table(\"Url6\", util.ngramizer(util.tokenize_url, 6), util.parse_url, data_table, train_size, TEST_SIZE)        \n",
    "\n",
    "    print \"Url12 Training size %d\" % train_size\n",
    "    vectorize_table(\"Url12\", util.ngramizer(util.tokenize_url, 12), util.parse_url, data_table, train_size, TEST_SIZE)        "
   ]
  },
  {
   "cell_type": "code",
   "execution_count": 8,
   "metadata": {
    "collapsed": false
   },
   "outputs": [],
   "source": [
    "SIZE_CUTOFFS = [2**n for n in xrange(5, 20)]\n",
    "\n",
    "def sizes_table(table, train_size, test_size):\n",
    "    X_train = np.array([\n",
    "        [1 if len(script) > c else 0 for c in SIZE_CUTOFFS]\n",
    "        for script in util.parse_js(table[:train_size])\n",
    "    ])\n",
    "    \n",
    "    X_test = np.array([\n",
    "        [1 if len(script) > c else 0 for c in SIZE_CUTOFFS]\n",
    "        for script in util.parse_js(table[-test_size:])\n",
    "    ])\n",
    "    \n",
    "    data = {\n",
    "        \"X_train\": X_train,\n",
    "        \"Y_train\": np.array([item[\"flag-any\"] for item in table[:train_size]]),\n",
    "        \"X_test\": X_test,\n",
    "        \"Y_test\": np.array([item[\"flag-any\"] for item in table[-test_size:]]),\n",
    "        \"shas_test\": [item[\"sha\"] for item in table[-test_size:]],\n",
    "        \"urls_test\": [item[\"url\"] for item in table[-test_size:]]\n",
    "    }\n",
    "    \n",
    "    with open(\"%s/model-data/dataset_%s_%d.pickle\" % (REPO_ROOT, \"FileSize\", train_size), \"w\") as f:\n",
    "        pickle.dump(data, f)\n",
    "    \n",
    "sizes_table(data_table, TRAIN_SIZES[-1], TEST_SIZE)"
   ]
  },
  {
   "cell_type": "code",
   "execution_count": 19,
   "metadata": {
    "collapsed": false
   },
   "outputs": [
    {
     "name": "stdout",
     "output_type": "stream",
     "text": [
      "BiRegEx1K Training\n",
      "Trained: 101468 features.\n",
      "BiRegEx4K Training\n",
      "Trained: 184501 features.\n",
      "BiRegEx16K Training\n",
      "Trained: 309442 features.\n",
      "BiRegEx64K Training\n",
      "Trained: 455621 features.\n",
      "BiRegEx256K Training\n",
      "Trained: 500000 features.\n",
      "BiRegEx1M Training\n",
      "Trained: 500000 features.\n",
      "Done.\n"
     ]
    }
   ],
   "source": [
    "SIZES = [[\"1K\", 1024], [\"4K\", 4096], [\"16K\", 16384], [\"64K\", 65536], [\"256K\", 262144], [\"1M\", 1048576]]\n",
    "for name, cutoff in SIZES:\n",
    "    print \"BiRegEx%s Training\" % name\n",
    "    vectorize_table(\"BiRegEx%s\" % name,\n",
    "                    util.ngramizer(util.tokenize_js, 2),\n",
    "                    util.truncated_parse_js(cutoff), data_table, TRAIN_SIZES[-1], TEST_SIZE)        \n",
    "print \"Done.\""
   ]
  },
  {
   "cell_type": "code",
   "execution_count": null,
   "metadata": {
    "collapsed": true
   },
   "outputs": [],
   "source": []
  }
 ],
 "metadata": {
  "kernelspec": {
   "display_name": "Python 2",
   "language": "python",
   "name": "python2"
  },
  "language_info": {
   "codemirror_mode": {
    "name": "ipython",
    "version": 2
   },
   "file_extension": ".py",
   "mimetype": "text/x-python",
   "name": "python",
   "nbconvert_exporter": "python",
   "pygments_lexer": "ipython2",
   "version": "2.7.12"
  }
 },
 "nbformat": 4,
 "nbformat_minor": 1
}
